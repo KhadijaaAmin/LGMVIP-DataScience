{
 "cells": [
  {
   "cell_type": "markdown",
   "id": "643b2acf",
   "metadata": {},
   "source": [
    "# Khadija Amin"
   ]
  },
  {
   "cell_type": "markdown",
   "id": "8d2653d4",
   "metadata": {},
   "source": [
    "# LGMVIP Task2-Beginner level: Stock Market Prediction and Forecasting using Stacked LSTM"
   ]
  },
  {
   "cell_type": "markdown",
   "id": "17bf007b",
   "metadata": {},
   "source": [
    "# Dataset link https://raw.githubusercontent.com/mwitiderrick/stockprice/master/NSE-TATAGLOBAL.csv"
   ]
  },
  {
   "cell_type": "code",
   "execution_count": 13,
   "id": "c2e36dc0",
   "metadata": {},
   "outputs": [],
   "source": [
    "import pandas as pd\n",
    "import numpy as np\n",
    "from sklearn.model_selection import train_test_split\n",
    "import math\n",
    "from tensorflow.keras.models import Sequential\n",
    "from tensorflow.keras.layers import Dense\n",
    "from tensorflow.keras.layers import LSTM\n",
    "import matplotlib.pyplot as plt\n",
    "import numpy as np\n",
    "import seaborn as sns\n",
    "import sklearn.preprocessing as sp\n",
    "from sklearn.metrics import accuracy_score\n",
    "from sklearn.preprocessing import MinMaxScaler\n",
    "from sklearn.preprocessing import StandardScaler"
   ]
  },
  {
   "cell_type": "code",
   "execution_count": 15,
   "id": "e94647fb",
   "metadata": {},
   "outputs": [
    {
     "data": {
      "text/html": [
       "<div>\n",
       "<style scoped>\n",
       "    .dataframe tbody tr th:only-of-type {\n",
       "        vertical-align: middle;\n",
       "    }\n",
       "\n",
       "    .dataframe tbody tr th {\n",
       "        vertical-align: top;\n",
       "    }\n",
       "\n",
       "    .dataframe thead th {\n",
       "        text-align: right;\n",
       "    }\n",
       "</style>\n",
       "<table border=\"1\" class=\"dataframe\">\n",
       "  <thead>\n",
       "    <tr style=\"text-align: right;\">\n",
       "      <th></th>\n",
       "      <th>Open</th>\n",
       "      <th>High</th>\n",
       "      <th>Low</th>\n",
       "      <th>Last</th>\n",
       "      <th>Close</th>\n",
       "      <th>Total Trade Quantity</th>\n",
       "      <th>Turnover (Lacs)</th>\n",
       "    </tr>\n",
       "    <tr>\n",
       "      <th>Date</th>\n",
       "      <th></th>\n",
       "      <th></th>\n",
       "      <th></th>\n",
       "      <th></th>\n",
       "      <th></th>\n",
       "      <th></th>\n",
       "      <th></th>\n",
       "    </tr>\n",
       "  </thead>\n",
       "  <tbody>\n",
       "    <tr>\n",
       "      <th>2018-09-28</th>\n",
       "      <td>234.05</td>\n",
       "      <td>235.95</td>\n",
       "      <td>230.20</td>\n",
       "      <td>233.50</td>\n",
       "      <td>233.75</td>\n",
       "      <td>3069914</td>\n",
       "      <td>7162.35</td>\n",
       "    </tr>\n",
       "    <tr>\n",
       "      <th>2018-09-27</th>\n",
       "      <td>234.55</td>\n",
       "      <td>236.80</td>\n",
       "      <td>231.10</td>\n",
       "      <td>233.80</td>\n",
       "      <td>233.25</td>\n",
       "      <td>5082859</td>\n",
       "      <td>11859.95</td>\n",
       "    </tr>\n",
       "    <tr>\n",
       "      <th>2018-09-26</th>\n",
       "      <td>240.00</td>\n",
       "      <td>240.00</td>\n",
       "      <td>232.50</td>\n",
       "      <td>235.00</td>\n",
       "      <td>234.25</td>\n",
       "      <td>2240909</td>\n",
       "      <td>5248.60</td>\n",
       "    </tr>\n",
       "    <tr>\n",
       "      <th>2018-09-25</th>\n",
       "      <td>233.30</td>\n",
       "      <td>236.75</td>\n",
       "      <td>232.00</td>\n",
       "      <td>236.25</td>\n",
       "      <td>236.10</td>\n",
       "      <td>2349368</td>\n",
       "      <td>5503.90</td>\n",
       "    </tr>\n",
       "    <tr>\n",
       "      <th>2018-09-24</th>\n",
       "      <td>233.55</td>\n",
       "      <td>239.20</td>\n",
       "      <td>230.75</td>\n",
       "      <td>234.00</td>\n",
       "      <td>233.30</td>\n",
       "      <td>3423509</td>\n",
       "      <td>7999.55</td>\n",
       "    </tr>\n",
       "  </tbody>\n",
       "</table>\n",
       "</div>"
      ],
      "text/plain": [
       "              Open    High     Low    Last   Close  Total Trade Quantity  \\\n",
       "Date                                                                       \n",
       "2018-09-28  234.05  235.95  230.20  233.50  233.75               3069914   \n",
       "2018-09-27  234.55  236.80  231.10  233.80  233.25               5082859   \n",
       "2018-09-26  240.00  240.00  232.50  235.00  234.25               2240909   \n",
       "2018-09-25  233.30  236.75  232.00  236.25  236.10               2349368   \n",
       "2018-09-24  233.55  239.20  230.75  234.00  233.30               3423509   \n",
       "\n",
       "            Turnover (Lacs)  \n",
       "Date                         \n",
       "2018-09-28          7162.35  \n",
       "2018-09-27         11859.95  \n",
       "2018-09-26          5248.60  \n",
       "2018-09-25          5503.90  \n",
       "2018-09-24          7999.55  "
      ]
     },
     "execution_count": 15,
     "metadata": {},
     "output_type": "execute_result"
    }
   ],
   "source": [
    "import pandas as pd\n",
    "data=pd.read_csv('https://raw.githubusercontent.com/mwitiderrick/stockprice/master/NSE-TATAGLOBAL.csv',index_col='Date')\n",
    "data.head()"
   ]
  },
  {
   "cell_type": "code",
   "execution_count": 16,
   "id": "965b6256",
   "metadata": {},
   "outputs": [
    {
     "data": {
      "text/html": [
       "<div>\n",
       "<style scoped>\n",
       "    .dataframe tbody tr th:only-of-type {\n",
       "        vertical-align: middle;\n",
       "    }\n",
       "\n",
       "    .dataframe tbody tr th {\n",
       "        vertical-align: top;\n",
       "    }\n",
       "\n",
       "    .dataframe thead th {\n",
       "        text-align: right;\n",
       "    }\n",
       "</style>\n",
       "<table border=\"1\" class=\"dataframe\">\n",
       "  <thead>\n",
       "    <tr style=\"text-align: right;\">\n",
       "      <th></th>\n",
       "      <th>Open</th>\n",
       "      <th>High</th>\n",
       "      <th>Low</th>\n",
       "      <th>Last</th>\n",
       "      <th>Close</th>\n",
       "      <th>Total Trade Quantity</th>\n",
       "      <th>Turnover (Lacs)</th>\n",
       "    </tr>\n",
       "    <tr>\n",
       "      <th>Date</th>\n",
       "      <th></th>\n",
       "      <th></th>\n",
       "      <th></th>\n",
       "      <th></th>\n",
       "      <th></th>\n",
       "      <th></th>\n",
       "      <th></th>\n",
       "    </tr>\n",
       "  </thead>\n",
       "  <tbody>\n",
       "    <tr>\n",
       "      <th>2010-07-27</th>\n",
       "      <td>117.6</td>\n",
       "      <td>119.50</td>\n",
       "      <td>112.00</td>\n",
       "      <td>118.80</td>\n",
       "      <td>118.65</td>\n",
       "      <td>586100</td>\n",
       "      <td>694.98</td>\n",
       "    </tr>\n",
       "    <tr>\n",
       "      <th>2010-07-26</th>\n",
       "      <td>120.1</td>\n",
       "      <td>121.00</td>\n",
       "      <td>117.10</td>\n",
       "      <td>117.10</td>\n",
       "      <td>117.60</td>\n",
       "      <td>658440</td>\n",
       "      <td>780.01</td>\n",
       "    </tr>\n",
       "    <tr>\n",
       "      <th>2010-07-23</th>\n",
       "      <td>121.8</td>\n",
       "      <td>121.95</td>\n",
       "      <td>120.25</td>\n",
       "      <td>120.35</td>\n",
       "      <td>120.65</td>\n",
       "      <td>281312</td>\n",
       "      <td>340.31</td>\n",
       "    </tr>\n",
       "    <tr>\n",
       "      <th>2010-07-22</th>\n",
       "      <td>120.3</td>\n",
       "      <td>122.00</td>\n",
       "      <td>120.25</td>\n",
       "      <td>120.75</td>\n",
       "      <td>120.90</td>\n",
       "      <td>293312</td>\n",
       "      <td>355.17</td>\n",
       "    </tr>\n",
       "    <tr>\n",
       "      <th>2010-07-21</th>\n",
       "      <td>122.1</td>\n",
       "      <td>123.00</td>\n",
       "      <td>121.05</td>\n",
       "      <td>121.10</td>\n",
       "      <td>121.55</td>\n",
       "      <td>658666</td>\n",
       "      <td>803.56</td>\n",
       "    </tr>\n",
       "  </tbody>\n",
       "</table>\n",
       "</div>"
      ],
      "text/plain": [
       "             Open    High     Low    Last   Close  Total Trade Quantity  \\\n",
       "Date                                                                      \n",
       "2010-07-27  117.6  119.50  112.00  118.80  118.65                586100   \n",
       "2010-07-26  120.1  121.00  117.10  117.10  117.60                658440   \n",
       "2010-07-23  121.8  121.95  120.25  120.35  120.65                281312   \n",
       "2010-07-22  120.3  122.00  120.25  120.75  120.90                293312   \n",
       "2010-07-21  122.1  123.00  121.05  121.10  121.55                658666   \n",
       "\n",
       "            Turnover (Lacs)  \n",
       "Date                         \n",
       "2010-07-27           694.98  \n",
       "2010-07-26           780.01  \n",
       "2010-07-23           340.31  \n",
       "2010-07-22           355.17  \n",
       "2010-07-21           803.56  "
      ]
     },
     "execution_count": 16,
     "metadata": {},
     "output_type": "execute_result"
    }
   ],
   "source": [
    "# year range is from 2010-2018\n",
    "data.tail()"
   ]
  },
  {
   "cell_type": "markdown",
   "id": "d3cf618c",
   "metadata": {},
   "source": [
    "# Info about data"
   ]
  },
  {
   "cell_type": "code",
   "execution_count": 17,
   "id": "45e958d8",
   "metadata": {},
   "outputs": [
    {
     "data": {
      "text/html": [
       "<div>\n",
       "<style scoped>\n",
       "    .dataframe tbody tr th:only-of-type {\n",
       "        vertical-align: middle;\n",
       "    }\n",
       "\n",
       "    .dataframe tbody tr th {\n",
       "        vertical-align: top;\n",
       "    }\n",
       "\n",
       "    .dataframe thead th {\n",
       "        text-align: right;\n",
       "    }\n",
       "</style>\n",
       "<table border=\"1\" class=\"dataframe\">\n",
       "  <thead>\n",
       "    <tr style=\"text-align: right;\">\n",
       "      <th></th>\n",
       "      <th>Open</th>\n",
       "      <th>High</th>\n",
       "      <th>Low</th>\n",
       "      <th>Last</th>\n",
       "      <th>Close</th>\n",
       "      <th>Total Trade Quantity</th>\n",
       "      <th>Turnover (Lacs)</th>\n",
       "    </tr>\n",
       "  </thead>\n",
       "  <tbody>\n",
       "    <tr>\n",
       "      <th>count</th>\n",
       "      <td>2035.000000</td>\n",
       "      <td>2035.000000</td>\n",
       "      <td>2035.000000</td>\n",
       "      <td>2035.000000</td>\n",
       "      <td>2035.00000</td>\n",
       "      <td>2.035000e+03</td>\n",
       "      <td>2035.000000</td>\n",
       "    </tr>\n",
       "    <tr>\n",
       "      <th>mean</th>\n",
       "      <td>149.713735</td>\n",
       "      <td>151.992826</td>\n",
       "      <td>147.293931</td>\n",
       "      <td>149.474251</td>\n",
       "      <td>149.45027</td>\n",
       "      <td>2.335681e+06</td>\n",
       "      <td>3899.980565</td>\n",
       "    </tr>\n",
       "    <tr>\n",
       "      <th>std</th>\n",
       "      <td>48.664509</td>\n",
       "      <td>49.413109</td>\n",
       "      <td>47.931958</td>\n",
       "      <td>48.732570</td>\n",
       "      <td>48.71204</td>\n",
       "      <td>2.091778e+06</td>\n",
       "      <td>4570.767877</td>\n",
       "    </tr>\n",
       "    <tr>\n",
       "      <th>min</th>\n",
       "      <td>81.100000</td>\n",
       "      <td>82.800000</td>\n",
       "      <td>80.000000</td>\n",
       "      <td>81.000000</td>\n",
       "      <td>80.95000</td>\n",
       "      <td>3.961000e+04</td>\n",
       "      <td>37.040000</td>\n",
       "    </tr>\n",
       "    <tr>\n",
       "      <th>25%</th>\n",
       "      <td>120.025000</td>\n",
       "      <td>122.100000</td>\n",
       "      <td>118.300000</td>\n",
       "      <td>120.075000</td>\n",
       "      <td>120.05000</td>\n",
       "      <td>1.146444e+06</td>\n",
       "      <td>1427.460000</td>\n",
       "    </tr>\n",
       "    <tr>\n",
       "      <th>50%</th>\n",
       "      <td>141.500000</td>\n",
       "      <td>143.400000</td>\n",
       "      <td>139.600000</td>\n",
       "      <td>141.100000</td>\n",
       "      <td>141.25000</td>\n",
       "      <td>1.783456e+06</td>\n",
       "      <td>2512.030000</td>\n",
       "    </tr>\n",
       "    <tr>\n",
       "      <th>75%</th>\n",
       "      <td>157.175000</td>\n",
       "      <td>159.400000</td>\n",
       "      <td>155.150000</td>\n",
       "      <td>156.925000</td>\n",
       "      <td>156.90000</td>\n",
       "      <td>2.813594e+06</td>\n",
       "      <td>4539.015000</td>\n",
       "    </tr>\n",
       "    <tr>\n",
       "      <th>max</th>\n",
       "      <td>327.700000</td>\n",
       "      <td>328.750000</td>\n",
       "      <td>321.650000</td>\n",
       "      <td>325.950000</td>\n",
       "      <td>325.75000</td>\n",
       "      <td>2.919102e+07</td>\n",
       "      <td>55755.080000</td>\n",
       "    </tr>\n",
       "  </tbody>\n",
       "</table>\n",
       "</div>"
      ],
      "text/plain": [
       "              Open         High          Low         Last       Close  \\\n",
       "count  2035.000000  2035.000000  2035.000000  2035.000000  2035.00000   \n",
       "mean    149.713735   151.992826   147.293931   149.474251   149.45027   \n",
       "std      48.664509    49.413109    47.931958    48.732570    48.71204   \n",
       "min      81.100000    82.800000    80.000000    81.000000    80.95000   \n",
       "25%     120.025000   122.100000   118.300000   120.075000   120.05000   \n",
       "50%     141.500000   143.400000   139.600000   141.100000   141.25000   \n",
       "75%     157.175000   159.400000   155.150000   156.925000   156.90000   \n",
       "max     327.700000   328.750000   321.650000   325.950000   325.75000   \n",
       "\n",
       "       Total Trade Quantity  Turnover (Lacs)  \n",
       "count          2.035000e+03      2035.000000  \n",
       "mean           2.335681e+06      3899.980565  \n",
       "std            2.091778e+06      4570.767877  \n",
       "min            3.961000e+04        37.040000  \n",
       "25%            1.146444e+06      1427.460000  \n",
       "50%            1.783456e+06      2512.030000  \n",
       "75%            2.813594e+06      4539.015000  \n",
       "max            2.919102e+07     55755.080000  "
      ]
     },
     "execution_count": 17,
     "metadata": {},
     "output_type": "execute_result"
    }
   ],
   "source": [
    "data.describe()"
   ]
  },
  {
   "cell_type": "code",
   "execution_count": 19,
   "id": "7404bbe9",
   "metadata": {},
   "outputs": [
    {
     "data": {
      "text/plain": [
       "<bound method DataFrame.info of               Open    High     Low    Last   Close  Total Trade Quantity  \\\n",
       "Date                                                                       \n",
       "2018-09-28  234.05  235.95  230.20  233.50  233.75               3069914   \n",
       "2018-09-27  234.55  236.80  231.10  233.80  233.25               5082859   \n",
       "2018-09-26  240.00  240.00  232.50  235.00  234.25               2240909   \n",
       "2018-09-25  233.30  236.75  232.00  236.25  236.10               2349368   \n",
       "2018-09-24  233.55  239.20  230.75  234.00  233.30               3423509   \n",
       "...            ...     ...     ...     ...     ...                   ...   \n",
       "2010-07-27  117.60  119.50  112.00  118.80  118.65                586100   \n",
       "2010-07-26  120.10  121.00  117.10  117.10  117.60                658440   \n",
       "2010-07-23  121.80  121.95  120.25  120.35  120.65                281312   \n",
       "2010-07-22  120.30  122.00  120.25  120.75  120.90                293312   \n",
       "2010-07-21  122.10  123.00  121.05  121.10  121.55                658666   \n",
       "\n",
       "            Turnover (Lacs)  \n",
       "Date                         \n",
       "2018-09-28          7162.35  \n",
       "2018-09-27         11859.95  \n",
       "2018-09-26          5248.60  \n",
       "2018-09-25          5503.90  \n",
       "2018-09-24          7999.55  \n",
       "...                     ...  \n",
       "2010-07-27           694.98  \n",
       "2010-07-26           780.01  \n",
       "2010-07-23           340.31  \n",
       "2010-07-22           355.17  \n",
       "2010-07-21           803.56  \n",
       "\n",
       "[2035 rows x 7 columns]>"
      ]
     },
     "execution_count": 19,
     "metadata": {},
     "output_type": "execute_result"
    }
   ],
   "source": [
    "data.info"
   ]
  },
  {
   "cell_type": "code",
   "execution_count": 22,
   "id": "f72839f1",
   "metadata": {},
   "outputs": [
    {
     "data": {
      "text/plain": [
       "(2035, 7)"
      ]
     },
     "execution_count": 22,
     "metadata": {},
     "output_type": "execute_result"
    }
   ],
   "source": [
    "data.shape"
   ]
  },
  {
   "cell_type": "code",
   "execution_count": 20,
   "id": "a32c7cab",
   "metadata": {},
   "outputs": [
    {
     "data": {
      "text/plain": [
       "<AxesSubplot:xlabel='Date'>"
      ]
     },
     "execution_count": 20,
     "metadata": {},
     "output_type": "execute_result"
    },
    {
     "data": {
      "image/png": "[encoded data removed]",
      "text/plain": [
       "<Figure size 432x288 with 1 Axes>"
      ]
     },
     "metadata": {
      "needs_background": "light"
     },
     "output_type": "display_data"
    }
   ],
   "source": [
    "data.plot()"
   ]
  },
  {
   "cell_type": "code",
   "execution_count": 23,
   "id": "04ba7600",
   "metadata": {},
   "outputs": [
    {
     "data": {
      "text/plain": [
       "155.55    6\n",
       "154.85    6\n",
       "141.90    6\n",
       "147.65    5\n",
       "140.80    5\n",
       "         ..\n",
       "124.95    1\n",
       "124.40    1\n",
       "119.25    1\n",
       "118.05    1\n",
       "116.60    1\n",
       "Name: Close, Length: 1313, dtype: int64"
      ]
     },
     "execution_count": 23,
     "metadata": {},
     "output_type": "execute_result"
    }
   ],
   "source": [
    "data.Close.value_counts()"
   ]
  },
  {
   "cell_type": "markdown",
   "id": "bdf59fe1",
   "metadata": {},
   "source": [
    "# Close values from 2010 to 2018"
   ]
  },
  {
   "cell_type": "code",
   "execution_count": 32,
   "id": "5bfa6d4c",
   "metadata": {},
   "outputs": [
    {
     "data": {
      "text/plain": [
       "<matplotlib.legend.Legend at 0x24a2e6d0d30>"
      ]
     },
     "execution_count": 32,
     "metadata": {},
     "output_type": "execute_result"
    },
    {
     "data": {
      "image/png": "[encoded data removed]",
      "text/plain": [
       "<Figure size 432x288 with 1 Axes>"
      ]
     },
     "metadata": {
      "needs_background": "light"
     },
     "output_type": "display_data"
    }
   ],
   "source": [
    "fig,axis=plt.subplots()\n",
    "axis.plot(data['Open'],'-b',label='Open')\n",
    "axis.plot(data['Close'],'--r',label='Close')\n",
    "axis.legend()"
   ]
  },
  {
   "cell_type": "markdown",
   "id": "4fff7b16",
   "metadata": {},
   "source": [
    "# High vs Low Values"
   ]
  },
  {
   "cell_type": "code",
   "execution_count": 31,
   "id": "61e79b61",
   "metadata": {},
   "outputs": [
    {
     "data": {
      "text/plain": [
       "<matplotlib.legend.Legend at 0x24a26c61070>"
      ]
     },
     "execution_count": 31,
     "metadata": {},
     "output_type": "execute_result"
    },
    {
     "data": {
      "image/png": "[encoded data removed]",
      "text/plain": [
       "<Figure size 432x288 with 1 Axes>"
      ]
     },
     "metadata": {
      "needs_background": "light"
     },
     "output_type": "display_data"
    }
   ],
   "source": [
    "fig,axis=plt.subplots()\n",
    "axis.plot(data['Low'],'--r',label='Low')\n",
    "axis.plot(data['High'],'-m',label='High')\n",
    "axis.legend()"
   ]
  },
  {
   "cell_type": "markdown",
   "id": "c169261d",
   "metadata": {},
   "source": [
    "# Preprocessing"
   ]
  },
  {
   "cell_type": "code",
   "execution_count": 104,
   "id": "655d929e",
   "metadata": {},
   "outputs": [
    {
     "data": {
      "text/plain": [
       "[<matplotlib.lines.Line2D at 0x24a372f6b20>]"
      ]
     },
     "execution_count": 104,
     "metadata": {},
     "output_type": "execute_result"
    },
    {
     "data": {
      "image/png": "[encoded data removed]",
      "text/plain": [
       "<Figure size 432x288 with 1 Axes>"
      ]
     },
     "metadata": {
      "needs_background": "light"
     },
     "output_type": "display_data"
    }
   ],
   "source": [
    "da=data.reset_index()['Close']\n",
    "da=da.values\n",
    "import matplotlib.pyplot as plt\n",
    "plt.plot(da,'-m')"
   ]
  },
  {
   "cell_type": "markdown",
   "id": "9a52e9c3",
   "metadata": {},
   "source": [
    "# Scaling"
   ]
  },
  {
   "cell_type": "code",
   "execution_count": 122,
   "id": "8c8804fb",
   "metadata": {},
   "outputs": [
    {
     "data": {
      "text/plain": [
       "array([[0.62418301],\n",
       "       [0.62214052],\n",
       "       [0.62622549],\n",
       "       ...,\n",
       "       [0.1621732 ],\n",
       "       [0.16319444],\n",
       "       [0.16584967]])"
      ]
     },
     "execution_count": 122,
     "metadata": {},
     "output_type": "execute_result"
    }
   ],
   "source": [
    "from sklearn.preprocessing import MinMaxScaler\n",
    "scaler=MinMaxScaler(feature_range=(0,1))\n",
    "da=scaler.fit_transform(np.array(da).reshape(-1,1))\n",
    "da"
   ]
  },
  {
   "cell_type": "markdown",
   "id": "3777c5ac",
   "metadata": {},
   "source": [
    "# splitting dataset into train and test split"
   ]
  },
  {
   "cell_type": "code",
   "execution_count": 123,
   "id": "d646cbbf",
   "metadata": {},
   "outputs": [],
   "source": [
    "train_size=int(len(da)*0.7)\n",
    "test_size=len(da)-training_size\n",
    "train_data,test_data=da[0:train_size,:],da[train_size:len(da),:1]"
   ]
  },
  {
   "cell_type": "code",
   "execution_count": 124,
   "id": "5d87ec5d",
   "metadata": {},
   "outputs": [
    {
     "data": {
      "text/plain": [
       "(1424, 611)"
      ]
     },
     "execution_count": 124,
     "metadata": {},
     "output_type": "execute_result"
    }
   ],
   "source": [
    "# training and testing size\n",
    "train_size,test_size"
   ]
  },
  {
   "cell_type": "code",
   "execution_count": 127,
   "id": "511c1783",
   "metadata": {},
   "outputs": [],
   "source": [
    "# convert an array of values into a dataset matrix\n",
    "def create_dataset(dataset, time_step=1):\n",
    "    X, Y = [], []\n",
    "    for i in range(len(dataset)-time_step-1):\n",
    "        a = dataset[i:(i+time_step), 0]   \n",
    "        X.append(a)\n",
    "        Y.append(dataset[i + time_step, 0])\n",
    "    return np.array(X), np.array(Y)"
   ]
  },
  {
   "cell_type": "code",
   "execution_count": 129,
   "id": "1d3a0681",
   "metadata": {},
   "outputs": [],
   "source": [
    "# reshape into X=t,t+1,t+2..t+89 and Y=t+90\n",
    "time_step = 90\n",
    "X_train, y_train = create_dataset(train_data, time_step)\n",
    "X_test, ytest = create_dataset(test_data, time_step)"
   ]
  },
  {
   "cell_type": "code",
   "execution_count": 130,
   "id": "33de0f00",
   "metadata": {},
   "outputs": [],
   "source": [
    "# reshape input to be [samples, time steps, features] which is required for LSTM\n",
    "X_train =X_train.reshape(X_train.shape[0],X_train.shape[1] , 1)\n",
    "X_test = X_test.reshape(X_test.shape[0],X_test.shape[1] , 1)"
   ]
  },
  {
   "cell_type": "markdown",
   "id": "fe059317",
   "metadata": {},
   "source": [
    "# Create the Stacked LSTM model"
   ]
  },
  {
   "cell_type": "code",
   "execution_count": 131,
   "id": "398a3b87",
   "metadata": {},
   "outputs": [],
   "source": [
    "from tensorflow.keras.models import Sequential\n",
    "from tensorflow.keras.layers import Dense\n",
    "from tensorflow.keras.layers import LSTM"
   ]
  },
  {
   "cell_type": "code",
   "execution_count": 132,
   "id": "22522bf6",
   "metadata": {},
   "outputs": [],
   "source": [
    "model=Sequential()\n",
    "model.add(LSTM(50,return_sequences=True,input_shape=(90,1)))\n",
    "model.add(LSTM(50,return_sequences=True))\n",
    "model.add(LSTM(50))\n",
    "model.add(Dense(1))\n",
    "model.compile(loss='mean_squared_error',optimizer='adam')"
   ]
  },
  {
   "cell_type": "code",
   "execution_count": 133,
   "id": "76777449",
   "metadata": {},
   "outputs": [
    {
     "name": "stdout",
     "output_type": "stream",
     "text": [
      "Model: \"sequential_1\"\n",
      "_________________________________________________________________\n",
      " Layer (type)                Output Shape              Param #   \n",
      "=================================================================\n",
      " lstm_2 (LSTM)               (None, 90, 50)            10400     \n",
      "                                                                 \n",
      " lstm_3 (LSTM)               (None, 90, 50)            20200     \n",
      "                                                                 \n",
      " lstm_4 (LSTM)               (None, 50)                20200     \n",
      "                                                                 \n",
      " dense_1 (Dense)             (None, 1)                 51        \n",
      "                                                                 \n",
      "=================================================================\n",
      "Total params: 50,851\n",
      "Trainable params: 50,851\n",
      "Non-trainable params: 0\n",
      "_________________________________________________________________\n"
     ]
    }
   ],
   "source": [
    "model.summary()"
   ]
  },
  {
   "cell_type": "code",
   "execution_count": 134,
   "id": "d61fb408",
   "metadata": {},
   "outputs": [
    {
     "name": "stdout",
     "output_type": "stream",
     "text": [
      "Epoch 1/100\n",
      "21/21 [==============================] - 28s 711ms/step - loss: 0.0238 - val_loss: 0.0065\n",
      "Epoch 2/100\n",
      "21/21 [==============================] - 6s 287ms/step - loss: 0.0036 - val_loss: 0.0011\n",
      "Epoch 3/100\n",
      "21/21 [==============================] - 6s 263ms/step - loss: 0.0016 - val_loss: 8.2020e-04\n",
      "Epoch 4/100\n",
      "21/21 [==============================] - 6s 280ms/step - loss: 0.0015 - val_loss: 0.0011\n",
      "Epoch 5/100\n",
      "21/21 [==============================] - 6s 280ms/step - loss: 0.0014 - val_loss: 9.2010e-04\n",
      "Epoch 6/100\n",
      "21/21 [==============================] - 6s 264ms/step - loss: 0.0013 - val_loss: 8.5340e-04\n",
      "Epoch 7/100\n",
      "21/21 [==============================] - 6s 272ms/step - loss: 0.0013 - val_loss: 0.0011\n",
      "Epoch 8/100\n",
      "21/21 [==============================] - 6s 275ms/step - loss: 0.0012 - val_loss: 8.2769e-04\n",
      "Epoch 9/100\n",
      "21/21 [==============================] - 6s 291ms/step - loss: 0.0011 - val_loss: 8.2788e-04\n",
      "Epoch 10/100\n",
      "21/21 [==============================] - 6s 271ms/step - loss: 0.0011 - val_loss: 8.6305e-04\n",
      "Epoch 11/100\n",
      "21/21 [==============================] - 6s 280ms/step - loss: 0.0010 - val_loss: 6.3609e-04\n",
      "Epoch 12/100\n",
      "21/21 [==============================] - 6s 265ms/step - loss: 0.0010 - val_loss: 7.0863e-04\n",
      "Epoch 13/100\n",
      "21/21 [==============================] - 5s 259ms/step - loss: 0.0010 - val_loss: 7.9448e-04\n",
      "Epoch 14/100\n",
      "21/21 [==============================] - 5s 260ms/step - loss: 9.7437e-04 - val_loss: 5.4121e-04\n",
      "Epoch 15/100\n",
      "21/21 [==============================] - 6s 270ms/step - loss: 9.9376e-04 - val_loss: 6.0860e-04\n",
      "Epoch 16/100\n",
      "21/21 [==============================] - 6s 277ms/step - loss: 8.8032e-04 - val_loss: 6.1482e-04\n",
      "Epoch 17/100\n",
      "21/21 [==============================] - 6s 270ms/step - loss: 9.2460e-04 - val_loss: 6.0866e-04\n",
      "Epoch 18/100\n",
      "21/21 [==============================] - 5s 255ms/step - loss: 9.3466e-04 - val_loss: 8.3193e-04\n",
      "Epoch 19/100\n",
      "21/21 [==============================] - 5s 245ms/step - loss: 9.1735e-04 - val_loss: 7.8674e-04\n",
      "Epoch 20/100\n",
      "21/21 [==============================] - 5s 244ms/step - loss: 8.6719e-04 - val_loss: 5.8572e-04\n",
      "Epoch 21/100\n",
      "21/21 [==============================] - 5s 245ms/step - loss: 9.0562e-04 - val_loss: 5.0309e-04\n",
      "Epoch 22/100\n",
      "21/21 [==============================] - 5s 242ms/step - loss: 7.9134e-04 - val_loss: 6.1783e-04\n",
      "Epoch 23/100\n",
      "21/21 [==============================] - 5s 242ms/step - loss: 7.6090e-04 - val_loss: 5.2976e-04\n",
      "Epoch 24/100\n",
      "21/21 [==============================] - 5s 246ms/step - loss: 8.0866e-04 - val_loss: 5.7117e-04\n",
      "Epoch 25/100\n",
      "21/21 [==============================] - 5s 243ms/step - loss: 9.1774e-04 - val_loss: 5.6686e-04\n",
      "Epoch 26/100\n",
      "21/21 [==============================] - 5s 243ms/step - loss: 7.8686e-04 - val_loss: 5.9975e-04\n",
      "Epoch 27/100\n",
      "21/21 [==============================] - 5s 243ms/step - loss: 6.9562e-04 - val_loss: 7.4907e-04\n",
      "Epoch 28/100\n",
      "21/21 [==============================] - 5s 244ms/step - loss: 7.2011e-04 - val_loss: 4.6250e-04\n",
      "Epoch 29/100\n",
      "21/21 [==============================] - 5s 245ms/step - loss: 7.7824e-04 - val_loss: 0.0012\n",
      "Epoch 30/100\n",
      "21/21 [==============================] - 5s 242ms/step - loss: 7.6096e-04 - val_loss: 5.8070e-04\n",
      "Epoch 31/100\n",
      "21/21 [==============================] - 5s 241ms/step - loss: 7.0840e-04 - val_loss: 4.3143e-04\n",
      "Epoch 32/100\n",
      "21/21 [==============================] - 5s 241ms/step - loss: 7.3628e-04 - val_loss: 6.2953e-04\n",
      "Epoch 33/100\n",
      "21/21 [==============================] - 5s 241ms/step - loss: 6.6276e-04 - val_loss: 5.0311e-04\n",
      "Epoch 34/100\n",
      "21/21 [==============================] - 5s 241ms/step - loss: 6.9157e-04 - val_loss: 7.2242e-04\n",
      "Epoch 35/100\n",
      "21/21 [==============================] - 5s 241ms/step - loss: 6.9693e-04 - val_loss: 5.7063e-04\n",
      "Epoch 36/100\n",
      "21/21 [==============================] - 5s 241ms/step - loss: 5.9096e-04 - val_loss: 5.3701e-04\n",
      "Epoch 37/100\n",
      "21/21 [==============================] - 5s 241ms/step - loss: 5.8670e-04 - val_loss: 5.9684e-04\n",
      "Epoch 38/100\n",
      "21/21 [==============================] - 5s 252ms/step - loss: 5.8254e-04 - val_loss: 6.7748e-04\n",
      "Epoch 39/100\n",
      "21/21 [==============================] - 5s 256ms/step - loss: 6.9155e-04 - val_loss: 4.2123e-04\n",
      "Epoch 40/100\n",
      "21/21 [==============================] - 5s 258ms/step - loss: 8.4360e-04 - val_loss: 5.7082e-04\n",
      "Epoch 41/100\n",
      "21/21 [==============================] - 6s 280ms/step - loss: 6.3767e-04 - val_loss: 6.5306e-04\n",
      "Epoch 42/100\n",
      "21/21 [==============================] - 5s 260ms/step - loss: 5.5203e-04 - val_loss: 4.5203e-04\n",
      "Epoch 43/100\n",
      "21/21 [==============================] - 6s 265ms/step - loss: 5.2744e-04 - val_loss: 5.3390e-04\n",
      "Epoch 44/100\n",
      "21/21 [==============================] - 5s 262ms/step - loss: 5.1706e-04 - val_loss: 6.4600e-04\n",
      "Epoch 45/100\n",
      "21/21 [==============================] - 5s 243ms/step - loss: 5.6385e-04 - val_loss: 6.6964e-04\n",
      "Epoch 46/100\n",
      "21/21 [==============================] - 5s 242ms/step - loss: 5.5823e-04 - val_loss: 4.7275e-04\n",
      "Epoch 47/100\n",
      "21/21 [==============================] - 5s 245ms/step - loss: 5.5189e-04 - val_loss: 4.2217e-04\n",
      "Epoch 48/100\n",
      "21/21 [==============================] - 5s 244ms/step - loss: 4.7027e-04 - val_loss: 4.0595e-04\n",
      "Epoch 49/100\n",
      "21/21 [==============================] - 5s 247ms/step - loss: 5.0041e-04 - val_loss: 5.5735e-04\n",
      "Epoch 50/100\n",
      "21/21 [==============================] - 5s 247ms/step - loss: 5.0657e-04 - val_loss: 3.2666e-04\n",
      "Epoch 51/100\n",
      "21/21 [==============================] - 5s 243ms/step - loss: 4.5539e-04 - val_loss: 3.3525e-04\n",
      "Epoch 52/100\n",
      "21/21 [==============================] - 5s 243ms/step - loss: 4.4885e-04 - val_loss: 4.5420e-04\n",
      "Epoch 53/100\n",
      "21/21 [==============================] - 5s 243ms/step - loss: 4.4073e-04 - val_loss: 3.8638e-04\n",
      "Epoch 54/100\n",
      "21/21 [==============================] - 5s 242ms/step - loss: 4.4307e-04 - val_loss: 3.3247e-04\n",
      "Epoch 55/100\n",
      "21/21 [==============================] - 5s 244ms/step - loss: 4.3747e-04 - val_loss: 3.1363e-04\n",
      "Epoch 56/100\n",
      "21/21 [==============================] - 5s 245ms/step - loss: 4.4658e-04 - val_loss: 4.2953e-04\n",
      "Epoch 57/100\n",
      "21/21 [==============================] - 5s 244ms/step - loss: 4.2174e-04 - val_loss: 3.0707e-04\n",
      "Epoch 58/100\n",
      "21/21 [==============================] - 5s 242ms/step - loss: 4.6865e-04 - val_loss: 4.5816e-04\n",
      "Epoch 59/100\n",
      "21/21 [==============================] - 5s 252ms/step - loss: 3.8578e-04 - val_loss: 3.4393e-04\n",
      "Epoch 60/100\n",
      "21/21 [==============================] - 5s 255ms/step - loss: 3.6097e-04 - val_loss: 3.1134e-04\n",
      "Epoch 61/100\n",
      "21/21 [==============================] - 5s 244ms/step - loss: 3.8706e-04 - val_loss: 3.9760e-04\n",
      "Epoch 62/100\n",
      "21/21 [==============================] - 5s 243ms/step - loss: 3.6378e-04 - val_loss: 3.4894e-04\n",
      "Epoch 63/100\n",
      "21/21 [==============================] - 5s 242ms/step - loss: 3.6396e-04 - val_loss: 4.3115e-04\n",
      "Epoch 64/100\n",
      "21/21 [==============================] - 5s 244ms/step - loss: 3.6815e-04 - val_loss: 2.7349e-04\n",
      "Epoch 65/100\n",
      "21/21 [==============================] - 5s 244ms/step - loss: 3.7733e-04 - val_loss: 3.6354e-04\n",
      "Epoch 66/100\n",
      "21/21 [==============================] - 5s 246ms/step - loss: 3.9536e-04 - val_loss: 6.3703e-04\n",
      "Epoch 67/100\n",
      "21/21 [==============================] - 5s 247ms/step - loss: 5.0105e-04 - val_loss: 2.7607e-04\n",
      "Epoch 68/100\n",
      "21/21 [==============================] - 5s 248ms/step - loss: 3.8017e-04 - val_loss: 3.1816e-04\n",
      "Epoch 69/100\n",
      "21/21 [==============================] - 5s 243ms/step - loss: 3.1246e-04 - val_loss: 2.8095e-04\n",
      "Epoch 70/100\n",
      "21/21 [==============================] - 5s 253ms/step - loss: 3.0840e-04 - val_loss: 2.5114e-04\n",
      "Epoch 71/100\n",
      "21/21 [==============================] - 5s 254ms/step - loss: 3.2079e-04 - val_loss: 3.2516e-04\n",
      "Epoch 72/100\n",
      "21/21 [==============================] - 5s 258ms/step - loss: 2.9995e-04 - val_loss: 2.5559e-04\n",
      "Epoch 73/100\n",
      "21/21 [==============================] - 5s 251ms/step - loss: 2.9257e-04 - val_loss: 2.7227e-04\n",
      "Epoch 74/100\n",
      "21/21 [==============================] - 5s 250ms/step - loss: 2.7422e-04 - val_loss: 2.5196e-04\n",
      "Epoch 75/100\n",
      "21/21 [==============================] - 5s 252ms/step - loss: 2.7510e-04 - val_loss: 2.7088e-04\n",
      "Epoch 76/100\n",
      "21/21 [==============================] - 5s 243ms/step - loss: 3.2419e-04 - val_loss: 1.9937e-04\n",
      "Epoch 77/100\n",
      "21/21 [==============================] - 5s 242ms/step - loss: 3.1749e-04 - val_loss: 2.4517e-04\n",
      "Epoch 78/100\n",
      "21/21 [==============================] - 5s 243ms/step - loss: 2.8229e-04 - val_loss: 3.2277e-04\n",
      "Epoch 79/100\n",
      "21/21 [==============================] - 5s 243ms/step - loss: 2.9335e-04 - val_loss: 2.5591e-04\n",
      "Epoch 80/100\n",
      "21/21 [==============================] - 5s 245ms/step - loss: 2.5082e-04 - val_loss: 1.8299e-04\n",
      "Epoch 81/100\n",
      "21/21 [==============================] - 5s 243ms/step - loss: 2.7998e-04 - val_loss: 2.0074e-04\n",
      "Epoch 82/100\n",
      "21/21 [==============================] - 5s 243ms/step - loss: 2.7999e-04 - val_loss: 2.3006e-04\n",
      "Epoch 83/100\n",
      "21/21 [==============================] - 5s 244ms/step - loss: 3.7697e-04 - val_loss: 2.1624e-04\n",
      "Epoch 84/100\n",
      "21/21 [==============================] - 5s 250ms/step - loss: 2.8206e-04 - val_loss: 2.4471e-04\n",
      "Epoch 85/100\n",
      "21/21 [==============================] - 5s 244ms/step - loss: 2.7450e-04 - val_loss: 3.0123e-04\n",
      "Epoch 86/100\n",
      "21/21 [==============================] - 5s 243ms/step - loss: 2.8014e-04 - val_loss: 3.1992e-04\n",
      "Epoch 87/100\n",
      "21/21 [==============================] - 5s 244ms/step - loss: 2.4859e-04 - val_loss: 3.6551e-04\n",
      "Epoch 88/100\n",
      "21/21 [==============================] - 5s 244ms/step - loss: 3.2979e-04 - val_loss: 3.2684e-04\n",
      "Epoch 89/100\n",
      "21/21 [==============================] - 5s 244ms/step - loss: 3.3583e-04 - val_loss: 1.8117e-04\n",
      "Epoch 90/100\n",
      "21/21 [==============================] - 5s 244ms/step - loss: 2.4393e-04 - val_loss: 1.9984e-04\n",
      "Epoch 91/100\n",
      "21/21 [==============================] - 5s 244ms/step - loss: 2.8708e-04 - val_loss: 2.2324e-04\n",
      "Epoch 92/100\n",
      "21/21 [==============================] - 5s 243ms/step - loss: 2.3196e-04 - val_loss: 2.3779e-04\n",
      "Epoch 93/100\n",
      "21/21 [==============================] - 5s 260ms/step - loss: 2.4323e-04 - val_loss: 2.6681e-04\n",
      "Epoch 94/100\n",
      "21/21 [==============================] - 5s 254ms/step - loss: 2.2994e-04 - val_loss: 2.6125e-04\n",
      "Epoch 95/100\n",
      "21/21 [==============================] - 5s 248ms/step - loss: 2.2546e-04 - val_loss: 1.9669e-04\n",
      "Epoch 96/100\n",
      "21/21 [==============================] - 5s 243ms/step - loss: 2.3977e-04 - val_loss: 1.5766e-04\n",
      "Epoch 97/100\n",
      "21/21 [==============================] - 5s 245ms/step - loss: 2.9020e-04 - val_loss: 1.7998e-04\n",
      "Epoch 98/100\n",
      "21/21 [==============================] - 5s 243ms/step - loss: 2.3804e-04 - val_loss: 2.4331e-04\n",
      "Epoch 99/100\n",
      "21/21 [==============================] - 5s 252ms/step - loss: 2.3636e-04 - val_loss: 2.0699e-04\n",
      "Epoch 100/100\n",
      "21/21 [==============================] - 5s 249ms/step - loss: 2.3881e-04 - val_loss: 1.7876e-04\n"
     ]
    },
    {
     "data": {
      "text/plain": [
       "<keras.callbacks.History at 0x24a3b1adac0>"
      ]
     },
     "execution_count": 134,
     "metadata": {},
     "output_type": "execute_result"
    }
   ],
   "source": [
    "model.fit(X_train,y_train,validation_data=(X_test,ytest),epochs=100,batch_size=64,verbose=1)"
   ]
  },
  {
   "cell_type": "code",
   "execution_count": 136,
   "id": "cc97cb9b",
   "metadata": {},
   "outputs": [
    {
     "name": "stdout",
     "output_type": "stream",
     "text": [
      "42/42 [==============================] - 5s 55ms/step\n",
      "17/17 [==============================] - 1s 54ms/step\n"
     ]
    }
   ],
   "source": [
    "# Make predictions\n",
    "trainPredict = model.predict(X_train)\n",
    "testPredict = model.predict(X_test)"
   ]
  },
  {
   "cell_type": "code",
   "execution_count": 137,
   "id": "ce6723f2",
   "metadata": {},
   "outputs": [],
   "source": [
    "# Inverse transform the predictions to get original scale\n",
    "trainPredict = scaler.inverse_transform(trainPredict)\n",
    "trainY = scaler.inverse_transform([y_train])\n",
    "testPredict = scaler.inverse_transform(testPredict)\n",
    "testY = scaler.inverse_transform([ytest])"
   ]
  },
  {
   "cell_type": "markdown",
   "id": "bb8a3952",
   "metadata": {},
   "source": [
    "# Calculate root mean squared error for training and testing"
   ]
  },
  {
   "cell_type": "code",
   "execution_count": 138,
   "id": "fbf5dd53",
   "metadata": {},
   "outputs": [
    {
     "name": "stdout",
     "output_type": "stream",
     "text": [
      "Train RMSE: 162.86\n",
      "Test RMSE: 107.77\n"
     ]
    }
   ],
   "source": [
    "trainScore = np.sqrt(np.mean((trainPredict - y_train[0]) ** 2))\n",
    "testScore = np.sqrt(np.mean((testPredict - ytest[0]) ** 2))\n",
    "print('Train RMSE: %.2f' % trainScore)\n",
    "print('Test RMSE: %.2f' % testScore)"
   ]
  },
  {
   "cell_type": "markdown",
   "id": "0da8cf8b",
   "metadata": {},
   "source": [
    "# Plot the predicted values"
   ]
  },
  {
   "cell_type": "code",
   "execution_count": 142,
   "id": "39f32544",
   "metadata": {},
   "outputs": [
    {
     "data": {
      "image/png": "[encoded data removed]",
      "text/plain": [
       "<Figure size 432x288 with 1 Axes>"
      ]
     },
     "metadata": {
      "needs_background": "light"
     },
     "output_type": "display_data"
    }
   ],
   "source": [
    "plt.plot(scaler.inverse_transform(da))\n",
    "plt.plot(np.concatenate([trainPredict, testPredict]), color='red')\n",
    "plt.show()"
   ]
  },
  {
   "cell_type": "markdown",
   "id": "f8b8b74c",
   "metadata": {},
   "source": [
    "# Plot the predicted vs Actual values"
   ]
  },
  {
   "cell_type": "code",
   "execution_count": 150,
   "id": "66271cb8",
   "metadata": {},
   "outputs": [
    {
     "data": {
      "image/png": "[encoded data removed]",
      "text/plain": [
       "<Figure size 432x288 with 1 Axes>"
      ]
     },
     "metadata": {
      "needs_background": "light"
     },
     "output_type": "display_data"
    }
   ],
   "source": [
    "fig,ax=plt.subplots()\n",
    "ax.plot(trainPredict,'-g',label='Prediction')\n",
    "ax.plot(testPredict,'--r',label='Actual')\n",
    "leg=ax.legend()"
   ]
  }
 ],
 "metadata": {
  "kernelspec": {
   "display_name": "Python 3 (ipykernel)",
   "language": "python",
   "name": "python3"
  },
  "language_info": {
   "codemirror_mode": {
    "name": "ipython",
    "version": 3
   },
   "file_extension": ".py",
   "mimetype": "text/x-python",
   "name": "python",
   "nbconvert_exporter": "python",
   "pygments_lexer": "ipython3",
   "version": "3.9.12"
  }
 },
 "nbformat": 4,
 "nbformat_minor": 5
}
