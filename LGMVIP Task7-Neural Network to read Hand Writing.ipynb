{
 "cells": [
  {
   "cell_type": "markdown",
   "id": "8c0a7084",
   "metadata": {},
   "source": [
    "# Khadija Amin"
   ]
  },
  {
   "cell_type": "markdown",
   "id": "83c5ffcb",
   "metadata": {},
   "source": [
    "# LGMVIP Task7-Advanced level: Neural Network that can read Handwriting"
   ]
  },
  {
   "cell_type": "code",
   "execution_count": 1,
   "id": "e0b655e4",
   "metadata": {},
   "outputs": [],
   "source": [
    "import tensorflow as tf"
   ]
  },
  {
   "cell_type": "code",
   "execution_count": 2,
   "id": "42702591",
   "metadata": {},
   "outputs": [
    {
     "data": {
      "text/plain": [
       "'2.9.1'"
      ]
     },
     "execution_count": 2,
     "metadata": {},
     "output_type": "execute_result"
    }
   ],
   "source": [
    "tf.__version__"
   ]
  },
  {
   "cell_type": "markdown",
   "id": "c3ef2e98",
   "metadata": {},
   "source": [
    "# MNIST Dataset Training and Testing Using Tensorflow"
   ]
  },
  {
   "cell_type": "markdown",
   "id": "1c8ddd40",
   "metadata": {},
   "source": [
    "# Step 1. Loading MNIST Dataset from Keras"
   ]
  },
  {
   "cell_type": "code",
   "execution_count": 2,
   "id": "4fd4f4ba",
   "metadata": {},
   "outputs": [],
   "source": [
    "from tensorflow.keras.datasets import mnist\n",
    "(train_x , train_y) , (test_x , test_y) = mnist.load_data()"
   ]
  },
  {
   "cell_type": "code",
   "execution_count": 3,
   "id": "5b546084",
   "metadata": {},
   "outputs": [
    {
     "data": {
      "text/plain": [
       "(60000, 28, 28)"
      ]
     },
     "execution_count": 3,
     "metadata": {},
     "output_type": "execute_result"
    }
   ],
   "source": [
    "train_x.shape"
   ]
  },
  {
   "cell_type": "code",
   "execution_count": 4,
   "id": "31eb10c4",
   "metadata": {},
   "outputs": [
    {
     "data": {
      "text/plain": [
       "(60000,)"
      ]
     },
     "execution_count": 4,
     "metadata": {},
     "output_type": "execute_result"
    }
   ],
   "source": [
    "train_y.shape"
   ]
  },
  {
   "cell_type": "code",
   "execution_count": 5,
   "id": "4cfd1469",
   "metadata": {},
   "outputs": [
    {
     "data": {
      "text/plain": [
       "(28, 28)"
      ]
     },
     "execution_count": 5,
     "metadata": {},
     "output_type": "execute_result"
    }
   ],
   "source": [
    "train_x[0].shape"
   ]
  },
  {
   "cell_type": "code",
   "execution_count": 6,
   "id": "53f3de72",
   "metadata": {},
   "outputs": [
    {
     "data": {
      "text/plain": [
       "5"
      ]
     },
     "execution_count": 6,
     "metadata": {},
     "output_type": "execute_result"
    }
   ],
   "source": [
    "train_y[0]"
   ]
  },
  {
   "cell_type": "code",
   "execution_count": 7,
   "id": "a7230c2a",
   "metadata": {},
   "outputs": [
    {
     "data": {
      "text/plain": [
       "<matplotlib.image.AxesImage at 0x1e3cdb82100>"
      ]
     },
     "execution_count": 7,
     "metadata": {},
     "output_type": "execute_result"
    },
    {
     "data": {
      "image/png": "[encoded data removed]",
      "text/plain": [
       "<Figure size 432x288 with 1 Axes>"
      ]
     },
     "metadata": {
      "needs_background": "light"
     },
     "output_type": "display_data"
    }
   ],
   "source": [
    "import matplotlib.pyplot as plt\n",
    "plt.imshow(train_x[0])"
   ]
  },
  {
   "cell_type": "code",
   "execution_count": 8,
   "id": "6d661ec3",
   "metadata": {},
   "outputs": [
    {
     "data": {
      "text/plain": [
       "<matplotlib.image.AxesImage at 0x1e3ce30fe80>"
      ]
     },
     "execution_count": 8,
     "metadata": {},
     "output_type": "execute_result"
    },
    {
     "data": {
      "image/png": "[encoded data removed]",
      "text/plain": [
       "<Figure size 432x288 with 1 Axes>"
      ]
     },
     "metadata": {
      "needs_background": "light"
     },
     "output_type": "display_data"
    }
   ],
   "source": [
    "import matplotlib.pyplot as plt\n",
    "plt.imshow(train_x[0], cmap = plt.cm.binary)"
   ]
  },
  {
   "cell_type": "markdown",
   "id": "0820c5b7",
   "metadata": {},
   "source": [
    "# Step 2:Layer Architecture"
   ]
  },
  {
   "cell_type": "code",
   "execution_count": 9,
   "id": "6b946190",
   "metadata": {},
   "outputs": [],
   "source": [
    "from tensorflow.keras import models\n",
    "from tensorflow.keras import layers\n",
    "network = models.Sequential()\n",
    "network.add(layers.Flatten())\n",
    "network.add(layers.Dense(512 , input_dim=784 , activation = 'relu' ,)) #input_shape = (28 , 28)))\n",
    "network.add(layers.Dense(10 , activation = 'softmax'))"
   ]
  },
  {
   "cell_type": "markdown",
   "id": "7ec9f237",
   "metadata": {},
   "source": [
    "# Step 3:Network Compilation"
   ]
  },
  {
   "cell_type": "code",
   "execution_count": 11,
   "id": "d5b40513",
   "metadata": {},
   "outputs": [],
   "source": [
    "network.compile(optimizer = 'rmsprop',\n",
    "loss = 'categorical_crossentropy',\n",
    "metrics = ['accuracy'])"
   ]
  },
  {
   "cell_type": "code",
   "execution_count": 12,
   "id": "339377dd",
   "metadata": {},
   "outputs": [
    {
     "data": {
      "text/plain": [
       "<bound method Model.summary of <keras.engine.sequential.Sequential object at 0x000001E3CE350FA0>>"
      ]
     },
     "execution_count": 12,
     "metadata": {},
     "output_type": "execute_result"
    }
   ],
   "source": [
    "network.summary"
   ]
  },
  {
   "cell_type": "markdown",
   "id": "2405d377",
   "metadata": {},
   "source": [
    "# Data Preprocessing!              Reshaping, Normalization, Label Encoding"
   ]
  },
  {
   "cell_type": "code",
   "execution_count": 13,
   "id": "d083d570",
   "metadata": {},
   "outputs": [],
   "source": [
    "# from sklearn.preprocessing import minmax_scale\n",
    "train_x = train_x.reshape(60000,28*28) #Reshaping\n",
    "train_x = train_x.astype('float32') / 255 #Normalizing\n",
    "test_x = test_x.reshape(10000,28*28) #Reshaping\n",
    "test_x = test_x.astype('float32') / 255 #Normalizing"
   ]
  },
  {
   "cell_type": "code",
   "execution_count": 14,
   "id": "3efc8712",
   "metadata": {},
   "outputs": [],
   "source": [
    "#Label Encoding\n",
    "from tensorflow.keras.utils import to_categorical\n",
    "train_y = to_categorical(train_y , num_classes=10)\n",
    "test_y = to_categorical(test_y , num_classes=10)"
   ]
  },
  {
   "cell_type": "code",
   "execution_count": 15,
   "id": "6f8fea02",
   "metadata": {},
   "outputs": [
    {
     "data": {
      "text/plain": [
       "(60000, 10)"
      ]
     },
     "execution_count": 15,
     "metadata": {},
     "output_type": "execute_result"
    }
   ],
   "source": [
    "train_y.shape"
   ]
  },
  {
   "cell_type": "code",
   "execution_count": 16,
   "id": "a3c42ec1",
   "metadata": {},
   "outputs": [
    {
     "data": {
      "text/plain": [
       "(10000, 10)"
      ]
     },
     "execution_count": 16,
     "metadata": {},
     "output_type": "execute_result"
    }
   ],
   "source": [
    "test_y.shape"
   ]
  },
  {
   "cell_type": "markdown",
   "id": "87dc0b69",
   "metadata": {},
   "source": [
    "# Step 4:Model Training"
   ]
  },
  {
   "cell_type": "code",
   "execution_count": 17,
   "id": "844c39e3",
   "metadata": {},
   "outputs": [
    {
     "name": "stdout",
     "output_type": "stream",
     "text": [
      "Epoch 1/10\n",
      "422/422 [==============================] - 9s 18ms/step - loss: 0.2694 - accuracy: 0.9218 - val_loss: 0.1175 - val_accuracy: 0.9677\n",
      "Epoch 2/10\n",
      "422/422 [==============================] - 7s 16ms/step - loss: 0.1106 - accuracy: 0.9675 - val_loss: 0.0973 - val_accuracy: 0.9738\n",
      "Epoch 3/10\n",
      "422/422 [==============================] - 6s 15ms/step - loss: 0.0726 - accuracy: 0.9784 - val_loss: 0.0829 - val_accuracy: 0.9762\n",
      "Epoch 4/10\n",
      "422/422 [==============================] - 7s 16ms/step - loss: 0.0519 - accuracy: 0.9847 - val_loss: 0.0725 - val_accuracy: 0.9788\n",
      "Epoch 5/10\n",
      "422/422 [==============================] - 7s 18ms/step - loss: 0.0385 - accuracy: 0.9885 - val_loss: 0.0714 - val_accuracy: 0.9803\n",
      "Epoch 6/10\n",
      "422/422 [==============================] - 7s 16ms/step - loss: 0.0299 - accuracy: 0.9907 - val_loss: 0.0772 - val_accuracy: 0.9795\n",
      "Epoch 7/10\n",
      "422/422 [==============================] - 6s 15ms/step - loss: 0.0229 - accuracy: 0.9935 - val_loss: 0.0736 - val_accuracy: 0.9798\n",
      "Epoch 8/10\n",
      "422/422 [==============================] - 7s 16ms/step - loss: 0.0171 - accuracy: 0.9952 - val_loss: 0.0737 - val_accuracy: 0.9825\n",
      "Epoch 9/10\n",
      "422/422 [==============================] - 7s 16ms/step - loss: 0.0129 - accuracy: 0.9960 - val_loss: 0.0755 - val_accuracy: 0.9833\n",
      "Epoch 10/10\n",
      "422/422 [==============================] - 8s 20ms/step - loss: 0.0106 - accuracy: 0.9972 - val_loss: 0.0799 - val_accuracy: 0.9827\n"
     ]
    }
   ],
   "source": [
    "history=network.fit(train_x , train_y , epochs = 10 , validation_split=0.1, batch_size = 128)"
   ]
  },
  {
   "cell_type": "markdown",
   "id": "0e59253e",
   "metadata": {},
   "source": [
    "# Step 5:Model Evaluation"
   ]
  },
  {
   "cell_type": "code",
   "execution_count": 18,
   "id": "cd736269",
   "metadata": {},
   "outputs": [
    {
     "name": "stdout",
     "output_type": "stream",
     "text": [
      "313/313 [==============================] - 1s 4ms/step - loss: 0.0680 - accuracy: 0.9822\n"
     ]
    }
   ],
   "source": [
    "test_loss , test_acc = network.evaluate(test_x , test_y)"
   ]
  },
  {
   "cell_type": "code",
   "execution_count": 19,
   "id": "c963f9a8",
   "metadata": {},
   "outputs": [
    {
     "name": "stdout",
     "output_type": "stream",
     "text": [
      "0.0680268332362175\n",
      "0.982200026512146\n"
     ]
    }
   ],
   "source": [
    "print(test_loss)\n",
    "print(test_acc)"
   ]
  },
  {
   "cell_type": "code",
   "execution_count": 20,
   "id": "78544274",
   "metadata": {},
   "outputs": [
    {
     "data": {
      "image/png": "[encoded data removed]",
      "text/plain": [
       "<Figure size 1440x432 with 2 Axes>"
      ]
     },
     "metadata": {
      "needs_background": "light"
     },
     "output_type": "display_data"
    }
   ],
   "source": [
    "acc = history.history['accuracy']\n",
    "val_acc = history.history['val_accuracy']\n",
    "loss = history.history['loss']\n",
    "val_loss = history.history['val_loss']\n",
    "epochs = range(len(acc))\n",
    "\n",
    "fig, ax = plt.subplots(nrows=1, ncols=2, figsize=(20, 6))\n",
    "ax[0].plot(epochs, acc, 'y', label='Training accuracy')\n",
    "ax[0].plot(epochs, val_acc, 'g', label='Validation accuracy')\n",
    "ax[0].legend(loc=0)\n",
    "ax[1].plot(epochs, loss, 'y', label='Training loss')\n",
    "ax[1].plot(epochs, val_loss, 'g', label='Validation loss')\n",
    "ax[1].legend(loc=0)\n",
    "\n",
    "plt.suptitle('Training and validation')\n",
    "plt.show()"
   ]
  },
  {
   "cell_type": "code",
   "execution_count": 21,
   "id": "713449d3",
   "metadata": {},
   "outputs": [
    {
     "name": "stdout",
     "output_type": "stream",
     "text": [
      "Model saved as:mnist.h5\n"
     ]
    }
   ],
   "source": [
    "# Save model to be able to call later and predict without fitting\n",
    "network.save('mnist.h5')\n",
    "print('Model saved as:mnist.h5')"
   ]
  },
  {
   "cell_type": "code",
   "execution_count": 22,
   "id": "4314bca5",
   "metadata": {},
   "outputs": [
    {
     "name": "stdout",
     "output_type": "stream",
     "text": [
      "313/313 [==============================] - 1s 3ms/step\n"
     ]
    }
   ],
   "source": [
    "a = network.predict(test_x)[0]"
   ]
  },
  {
   "cell_type": "code",
   "execution_count": 23,
   "id": "bece3eb2",
   "metadata": {},
   "outputs": [
    {
     "data": {
      "text/plain": [
       "<matplotlib.image.AxesImage at 0x1e3cb82b520>"
      ]
     },
     "execution_count": 23,
     "metadata": {},
     "output_type": "execute_result"
    },
    {
     "data": {
      "image/png": "[encoded data removed]",
      "text/plain": [
       "<Figure size 432x288 with 1 Axes>"
      ]
     },
     "metadata": {
      "needs_background": "light"
     },
     "output_type": "display_data"
    }
   ],
   "source": [
    "bn = test_x[0].reshape([28,28])\n",
    "plt.imshow(bn,cmap = plt.cm.binary)"
   ]
  },
  {
   "cell_type": "code",
   "execution_count": 24,
   "id": "9ee30839",
   "metadata": {},
   "outputs": [
    {
     "data": {
      "text/plain": [
       "(10,)"
      ]
     },
     "execution_count": 24,
     "metadata": {},
     "output_type": "execute_result"
    }
   ],
   "source": [
    "a.shape"
   ]
  },
  {
   "cell_type": "code",
   "execution_count": 25,
   "id": "58bbbfea",
   "metadata": {},
   "outputs": [
    {
     "data": {
      "text/plain": [
       "array([2.0959141e-11, 5.2383884e-13, 1.0401524e-07, 3.5118245e-07,\n",
       "       1.9552158e-16, 2.5322425e-11, 4.8649122e-17, 9.9999940e-01,\n",
       "       1.3644781e-10, 1.3038911e-07], dtype=float32)"
      ]
     },
     "execution_count": 25,
     "metadata": {},
     "output_type": "execute_result"
    }
   ],
   "source": [
    "a"
   ]
  },
  {
   "cell_type": "code",
   "execution_count": 26,
   "id": "a0f028fb",
   "metadata": {},
   "outputs": [
    {
     "data": {
      "text/html": [
       "<div>\n",
       "<style scoped>\n",
       "    .dataframe tbody tr th:only-of-type {\n",
       "        vertical-align: middle;\n",
       "    }\n",
       "\n",
       "    .dataframe tbody tr th {\n",
       "        vertical-align: top;\n",
       "    }\n",
       "\n",
       "    .dataframe thead th {\n",
       "        text-align: right;\n",
       "    }\n",
       "</style>\n",
       "<table border=\"1\" class=\"dataframe\">\n",
       "  <thead>\n",
       "    <tr style=\"text-align: right;\">\n",
       "      <th></th>\n",
       "      <th>0</th>\n",
       "    </tr>\n",
       "  </thead>\n",
       "  <tbody>\n",
       "    <tr>\n",
       "      <th>0</th>\n",
       "      <td>2.095914e-11</td>\n",
       "    </tr>\n",
       "    <tr>\n",
       "      <th>1</th>\n",
       "      <td>5.238388e-13</td>\n",
       "    </tr>\n",
       "    <tr>\n",
       "      <th>2</th>\n",
       "      <td>1.040152e-07</td>\n",
       "    </tr>\n",
       "    <tr>\n",
       "      <th>3</th>\n",
       "      <td>3.511825e-07</td>\n",
       "    </tr>\n",
       "    <tr>\n",
       "      <th>4</th>\n",
       "      <td>1.955216e-16</td>\n",
       "    </tr>\n",
       "    <tr>\n",
       "      <th>5</th>\n",
       "      <td>2.532242e-11</td>\n",
       "    </tr>\n",
       "    <tr>\n",
       "      <th>6</th>\n",
       "      <td>4.864912e-17</td>\n",
       "    </tr>\n",
       "    <tr>\n",
       "      <th>7</th>\n",
       "      <td>9.999994e-01</td>\n",
       "    </tr>\n",
       "    <tr>\n",
       "      <th>8</th>\n",
       "      <td>1.364478e-10</td>\n",
       "    </tr>\n",
       "    <tr>\n",
       "      <th>9</th>\n",
       "      <td>1.303891e-07</td>\n",
       "    </tr>\n",
       "  </tbody>\n",
       "</table>\n",
       "</div>"
      ],
      "text/plain": [
       "              0\n",
       "0  2.095914e-11\n",
       "1  5.238388e-13\n",
       "2  1.040152e-07\n",
       "3  3.511825e-07\n",
       "4  1.955216e-16\n",
       "5  2.532242e-11\n",
       "6  4.864912e-17\n",
       "7  9.999994e-01\n",
       "8  1.364478e-10\n",
       "9  1.303891e-07"
      ]
     },
     "execution_count": 26,
     "metadata": {},
     "output_type": "execute_result"
    }
   ],
   "source": [
    "import pandas as pd\n",
    "pd.DataFrame(a)"
   ]
  },
  {
   "cell_type": "code",
   "execution_count": 27,
   "id": "86d38b34",
   "metadata": {},
   "outputs": [
    {
     "name": "stdout",
     "output_type": "stream",
     "text": [
      "0.9999994\n",
      "7\n"
     ]
    }
   ],
   "source": [
    "import numpy as np\n",
    "print(np.max(a))\n",
    "print(np.argmax(a))"
   ]
  },
  {
   "cell_type": "code",
   "execution_count": 28,
   "id": "6295ab65",
   "metadata": {},
   "outputs": [],
   "source": [
    "r=test_x[0].reshape([28,28])"
   ]
  },
  {
   "cell_type": "code",
   "execution_count": 29,
   "id": "8c9801ec",
   "metadata": {},
   "outputs": [
    {
     "data": {
      "text/plain": [
       "<matplotlib.image.AxesImage at 0x1e3cc8921f0>"
      ]
     },
     "execution_count": 29,
     "metadata": {},
     "output_type": "execute_result"
    },
    {
     "data": {
      "image/png": "[encoded data removed]",
      "text/plain": [
       "<Figure size 432x288 with 1 Axes>"
      ]
     },
     "metadata": {
      "needs_background": "light"
     },
     "output_type": "display_data"
    }
   ],
   "source": [
    "plt.imshow(r , cmap = plt.cm.binary)"
   ]
  },
  {
   "cell_type": "markdown",
   "id": "a2355c0d",
   "metadata": {},
   "source": [
    "# Evaluation on Custom Image"
   ]
  },
  {
   "cell_type": "code",
   "execution_count": 43,
   "id": "567179de",
   "metadata": {},
   "outputs": [],
   "source": [
    "from skimage import io\n",
    "img = io.imread('img_102.jpg', as_gray=True)"
   ]
  },
  {
   "cell_type": "code",
   "execution_count": 44,
   "id": "48a97b21",
   "metadata": {},
   "outputs": [
    {
     "data": {
      "text/plain": [
       "<matplotlib.image.AxesImage at 0x1e3d25745e0>"
      ]
     },
     "execution_count": 44,
     "metadata": {},
     "output_type": "execute_result"
    },
    {
     "data": {
      "image/png": "[encoded data removed]",
      "text/plain": [
       "<Figure size 432x288 with 1 Axes>"
      ]
     },
     "metadata": {
      "needs_background": "light"
     },
     "output_type": "display_data"
    }
   ],
   "source": [
    "plt.imshow(img,cmap = plt.cm.binary)"
   ]
  },
  {
   "cell_type": "code",
   "execution_count": 45,
   "id": "b734e21b",
   "metadata": {},
   "outputs": [],
   "source": [
    "img = (255 - img[:])/255"
   ]
  },
  {
   "cell_type": "code",
   "execution_count": 46,
   "id": "006c6aca",
   "metadata": {},
   "outputs": [
    {
     "data": {
      "text/plain": [
       "<matplotlib.image.AxesImage at 0x1e3d25e4280>"
      ]
     },
     "execution_count": 46,
     "metadata": {},
     "output_type": "execute_result"
    },
    {
     "data": {
      "image/png": "[encoded data removed]",
      "text/plain": [
       "<Figure size 432x288 with 1 Axes>"
      ]
     },
     "metadata": {
      "needs_background": "light"
     },
     "output_type": "display_data"
    }
   ],
   "source": [
    "plt.imshow(img,cmap = plt.cm.binary)"
   ]
  },
  {
   "cell_type": "code",
   "execution_count": null,
   "id": "1f9f76fe",
   "metadata": {},
   "outputs": [],
   "source": []
  }
 ],
 "metadata": {
  "kernelspec": {
   "display_name": "Python 3 (ipykernel)",
   "language": "python",
   "name": "python3"
  },
  "language_info": {
   "codemirror_mode": {
    "name": "ipython",
    "version": 3
   },
   "file_extension": ".py",
   "mimetype": "text/x-python",
   "name": "python",
   "nbconvert_exporter": "python",
   "pygments_lexer": "ipython3",
   "version": "3.9.12"
  }
 },
 "nbformat": 4,
 "nbformat_minor": 5
}
