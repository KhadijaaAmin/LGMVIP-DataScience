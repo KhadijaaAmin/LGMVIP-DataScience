{
 "cells": [
  {
   "cell_type": "markdown",
   "id": "00bede49",
   "metadata": {},
   "source": [
    "# Khadija Amin"
   ]
  },
  {
   "cell_type": "markdown",
   "id": "7c93fbd6",
   "metadata": {},
   "source": [
    "# LGMVIP Task4-Beginner level:Pencil Sketch Image"
   ]
  },
  {
   "cell_type": "code",
   "execution_count": 1,
   "id": "3ba9cb17",
   "metadata": {},
   "outputs": [],
   "source": [
    "# import libraries\n",
    "import cv2"
   ]
  },
  {
   "cell_type": "code",
   "execution_count": 2,
   "id": "08212192",
   "metadata": {},
   "outputs": [
    {
     "data": {
      "text/plain": [
       "array([[[188, 151, 125],\n",
       "        [190, 153, 127],\n",
       "        [191, 155, 131],\n",
       "        ...,\n",
       "        [251, 232, 217],\n",
       "        [251, 233, 216],\n",
       "        [251, 233, 216]],\n",
       "\n",
       "       [[189, 152, 126],\n",
       "        [190, 153, 127],\n",
       "        [192, 154, 130],\n",
       "        ...,\n",
       "        [252, 234, 217],\n",
       "        [252, 234, 217],\n",
       "        [252, 234, 217]],\n",
       "\n",
       "       [[192, 153, 125],\n",
       "        [191, 154, 126],\n",
       "        [192, 155, 129],\n",
       "        ...,\n",
       "        [252, 234, 217],\n",
       "        [250, 234, 217],\n",
       "        [250, 234, 217]],\n",
       "\n",
       "       ...,\n",
       "\n",
       "       [[ 45,  75, 100],\n",
       "        [ 34,  65,  88],\n",
       "        [ 27,  57,  82],\n",
       "        ...,\n",
       "        [ 22,  48,  62],\n",
       "        [ 26,  50,  62],\n",
       "        [ 30,  53,  68]],\n",
       "\n",
       "       [[ 38,  69,  92],\n",
       "        [ 29,  60,  81],\n",
       "        [ 31,  62,  85],\n",
       "        ...,\n",
       "        [  3,  25,  37],\n",
       "        [ 11,  31,  42],\n",
       "        [ 19,  38,  51]],\n",
       "\n",
       "       [[ 24,  53,  74],\n",
       "        [ 21,  51,  70],\n",
       "        [ 32,  61,  82],\n",
       "        ...,\n",
       "        [ 12,  30,  41],\n",
       "        [ 20,  39,  47],\n",
       "        [ 28,  46,  57]]], dtype=uint8)"
      ]
     },
     "execution_count": 2,
     "metadata": {},
     "output_type": "execute_result"
    }
   ],
   "source": [
    "# read the image\n",
    "img=cv2.imread('images.jpg')\n",
    "img"
   ]
  },
  {
   "cell_type": "code",
   "execution_count": 6,
   "id": "9cf115c3",
   "metadata": {},
   "outputs": [
    {
     "data": {
      "text/plain": [
       "(183, 275, 3)"
      ]
     },
     "execution_count": 6,
     "metadata": {},
     "output_type": "execute_result"
    }
   ],
   "source": [
    "# Image shape\n",
    "img.shape"
   ]
  },
  {
   "cell_type": "code",
   "execution_count": 7,
   "id": "defae7a0",
   "metadata": {},
   "outputs": [],
   "source": [
    "# Show original image RGB\n",
    "cv2.imshow('image',img)\n",
    "cv2.waitKey(0)\n",
    "cv2.destroyAllWindows()"
   ]
  },
  {
   "cell_type": "code",
   "execution_count": 17,
   "id": "135439b1",
   "metadata": {},
   "outputs": [],
   "source": [
    "# Convert the RGB image to grayscale\n",
    "gray_image = cv2.cvtColor(img, cv2.COLOR_RGB2GRAY)"
   ]
  },
  {
   "cell_type": "code",
   "execution_count": 18,
   "id": "7baa8099",
   "metadata": {},
   "outputs": [],
   "source": [
    "# Display the grayscale image using OpenCV\n",
    "cv2.imshow('gray_image', gray_image)\n",
    "cv2.waitKey(0)\n",
    "cv2.destroyAllWindows()"
   ]
  },
  {
   "cell_type": "code",
   "execution_count": 20,
   "id": "bc1bc89c",
   "metadata": {},
   "outputs": [],
   "source": [
    "# Apply thresholding to create a black and white image\n",
    "_, black_white_image = cv2.threshold(gray_image, 127, 255, cv2.THRESH_BINARY)\n",
    "cv2.imshow('Classic Black and White Image', black_white_image)\n",
    "cv2.waitKey(0)\n",
    "cv2.destroyAllWindows()"
   ]
  },
  {
   "cell_type": "code",
   "execution_count": 22,
   "id": "5975bbe9",
   "metadata": {},
   "outputs": [],
   "source": [
    "# Invert the grayscale image\n",
    "inverted_grayscale_image = 255 - gray_image"
   ]
  },
  {
   "cell_type": "code",
   "execution_count": null,
   "id": "43cb3cab",
   "metadata": {},
   "outputs": [],
   "source": [
    "# Display the inverted grayscale image using OpenCV\n",
    "cv2.imshow('Inverted Grayscale Image', inverted_grayscale_image)\n",
    "cv2.waitKey(0)\n",
    "cv2.destroyAllWindows()"
   ]
  },
  {
   "cell_type": "code",
   "execution_count": 23,
   "id": "e45fd759",
   "metadata": {},
   "outputs": [],
   "source": [
    "# Apply Gaussian blur to the grayscale image\n",
    "blurred_image = cv2.GaussianBlur(gray_image, (21, 21), 0)"
   ]
  },
  {
   "cell_type": "code",
   "execution_count": 25,
   "id": "1c2ac971",
   "metadata": {},
   "outputs": [],
   "source": [
    "# Blend the grayscale image with its inverted version to create the pencil sketch effect\n",
    "pencil_sketch = cv2.divide(255 - inverted_grayscale_image, blurred_image, scale=256.0)\n",
    "cv2.imshow('Pencil Sketch', pencil_sketch)\n",
    "cv2.waitKey(0)\n",
    "cv2.destroyAllWindows()"
   ]
  }
 ],
 "metadata": {
  "kernelspec": {
   "display_name": "Python 3 (ipykernel)",
   "language": "python",
   "name": "python3"
  },
  "language_info": {
   "codemirror_mode": {
    "name": "ipython",
    "version": 3
   },
   "file_extension": ".py",
   "mimetype": "text/x-python",
   "name": "python",
   "nbconvert_exporter": "python",
   "pygments_lexer": "ipython3",
   "version": "3.9.12"
  }
 },
 "nbformat": 4,
 "nbformat_minor": 5
}
